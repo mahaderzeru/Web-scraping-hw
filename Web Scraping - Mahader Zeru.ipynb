{
 "cells": [
  {
   "cell_type": "code",
   "execution_count": 2,
   "id": "2f84ebe6",
   "metadata": {},
   "outputs": [],
   "source": [
    "from bs4 import BeautifulSoup"
   ]
  },
  {
   "cell_type": "code",
   "execution_count": 5,
   "id": "a7977c35",
   "metadata": {},
   "outputs": [
    {
     "name": "stdout",
     "output_type": "stream",
     "text": [
      "<table border=\"1\">\n",
      "<tr>\n",
      "<th>Name</th>\n",
      "<th>Favortie Computer Language</th>\n",
      "<th>Years of Experience</th>\n",
      "</tr>\n",
      "<tr>\n",
      "<td>Fred</td>\n",
      "<td>Kotlin</td>\n",
      "<td>4</td>\n",
      "</tr>\n",
      "<tr>\n",
      "<td>Paula</td>\n",
      "<td>Python</td>\n",
      "<td>2</td>\n",
      "</tr>\n",
      "<tr>\n",
      "<td>Ernst</td>\n",
      "<td>Java</td>\n",
      "<td>7</td>\n",
      "</tr>\n",
      "<tr>\n",
      "<td>Isabel</td>\n",
      "<td>C++</td>\n",
      "<td>3</td>\n",
      "</tr>\n",
      "<tr>\n",
      "<td>Tony</td>\n",
      "<td>Pearl</td>\n",
      "<td>7</td>\n",
      "</tr>\n",
      "<tr>\n",
      "<td>Maria</td>\n",
      "<td>Cobol</td>\n",
      "<td>15</td>\n",
      "</tr>\n",
      "</table>\n"
     ]
    }
   ],
   "source": [
    "html_doc= \"\"\"\"\n",
    "\n",
    "<html>\n",
    "    <body>\n",
    "        <table border=\"1\" >\n",
    "  <tr>\n",
    "    <th>Name</th>\n",
    "    <th>Favortie Computer Language</th>  \n",
    "    <th>Years of Experience</th>\n",
    "  </tr>\n",
    "  <tr>\n",
    "    <td>Fred</td>\n",
    "    <td>Kotlin</td>\n",
    "    <td>4</td>\n",
    "  </tr>\n",
    "  <tr>\n",
    "    <td>Paula</td>\n",
    "    <td>Python</td>\n",
    "    <td>2</td>\n",
    "  </tr>\n",
    "  <tr>\n",
    "    <td>Ernst</td>\n",
    "    <td>Java</td>\n",
    "    <td>7</td>\n",
    "  </tr>\n",
    "  <tr>\n",
    "    <td>Isabel</td>\n",
    "    <td>C++</td>\n",
    "    <td>3</td>\n",
    "  </tr>\n",
    "  <tr>\n",
    "    <td>Tony</td>\n",
    "    <td>Pearl</td>\n",
    "    <td>7</td>\n",
    "  </tr>\n",
    "  <tr>\n",
    "    <td>Maria</td>\n",
    "    <td>Cobol</td>\n",
    "    <td>15</td>\n",
    "  </tr>\n",
    "</table>\n",
    "    </body>\n",
    "</html>\n",
    "\"\"\"\n",
    "soup = BeautifulSoup(html_doc, 'html.parser')    \n",
    "\n",
    "## Find All the (table> tags in the soup object by apply the method find(\"table\") to it\n",
    "table = soup.find('table')\n",
    "print(table)"
   ]
  },
  {
   "cell_type": "code",
   "execution_count": 6,
   "id": "7cbd7481",
   "metadata": {},
   "outputs": [
    {
     "name": "stdout",
     "output_type": "stream",
     "text": [
      "[<th>Name</th>, <th>Favortie Computer Language</th>, <th>Years of Experience</th>]\n"
     ]
    }
   ],
   "source": [
    "headers = table.find_all(\"th\")\n",
    "print(headers)"
   ]
  },
  {
   "cell_type": "code",
   "execution_count": 7,
   "id": "93b3b1c9",
   "metadata": {},
   "outputs": [
    {
     "name": "stdout",
     "output_type": "stream",
     "text": [
      "['Name', 'Favortie Computer Language', 'Years of Experience']\n"
     ]
    }
   ],
   "source": [
    "titles = []\n",
    "\n",
    "for i in headers:\n",
    "    title = i.text\n",
    "    titles.append(title)\n",
    "    \n",
    "print(titles)"
   ]
  },
  {
   "cell_type": "code",
   "execution_count": 8,
   "id": "cc9b28db",
   "metadata": {},
   "outputs": [
    {
     "name": "stdout",
     "output_type": "stream",
     "text": [
      "Empty DataFrame\n",
      "Columns: [Name, Favortie Computer Language, Years of Experience]\n",
      "Index: []\n"
     ]
    }
   ],
   "source": [
    "df = pd.DataFrame(columns=titles)\n",
    "print(df)"
   ]
  },
  {
   "cell_type": "code",
   "execution_count": 11,
   "id": "dc364512",
   "metadata": {},
   "outputs": [
    {
     "name": "stdout",
     "output_type": "stream",
     "text": [
      "[<tr>\n",
      "<th>Name</th>\n",
      "<th>Favortie Computer Language</th>\n",
      "<th>Years of Experience</th>\n",
      "</tr>, <tr>\n",
      "<td>Fred</td>\n",
      "<td>Kotlin</td>\n",
      "<td>4</td>\n",
      "</tr>, <tr>\n",
      "<td>Paula</td>\n",
      "<td>Python</td>\n",
      "<td>2</td>\n",
      "</tr>, <tr>\n",
      "<td>Ernst</td>\n",
      "<td>Java</td>\n",
      "<td>7</td>\n",
      "</tr>, <tr>\n",
      "<td>Isabel</td>\n",
      "<td>C++</td>\n",
      "<td>3</td>\n",
      "</tr>, <tr>\n",
      "<td>Tony</td>\n",
      "<td>Pearl</td>\n",
      "<td>7</td>\n",
      "</tr>, <tr>\n",
      "<td>Maria</td>\n",
      "<td>Cobol</td>\n",
      "<td>15</td>\n",
      "</tr>]\n"
     ]
    }
   ],
   "source": [
    "rows = table.find_all(\"tr\")\n",
    "print(rows)"
   ]
  },
  {
   "cell_type": "code",
   "execution_count": 13,
   "id": "9c9dd659",
   "metadata": {},
   "outputs": [
    {
     "name": "stdout",
     "output_type": "stream",
     "text": [
      "<tr>\n",
      "<td>Fred</td>\n",
      "<td>Kotlin</td>\n",
      "<td>4</td>\n",
      "</tr>\n",
      "<tr>\n",
      "<td>Paula</td>\n",
      "<td>Python</td>\n",
      "<td>2</td>\n",
      "</tr>\n",
      "<tr>\n",
      "<td>Ernst</td>\n",
      "<td>Java</td>\n",
      "<td>7</td>\n",
      "</tr>\n"
     ]
    }
   ],
   "source": [
    "for i in rows[1:4]:\n",
    "    print(i)"
   ]
  },
  {
   "cell_type": "code",
   "execution_count": 17,
   "id": "84da3686",
   "metadata": {},
   "outputs": [
    {
     "data": {
      "text/html": [
       "<div>\n",
       "<style scoped>\n",
       "    .dataframe tbody tr th:only-of-type {\n",
       "        vertical-align: middle;\n",
       "    }\n",
       "\n",
       "    .dataframe tbody tr th {\n",
       "        vertical-align: top;\n",
       "    }\n",
       "\n",
       "    .dataframe thead th {\n",
       "        text-align: right;\n",
       "    }\n",
       "</style>\n",
       "<table border=\"1\" class=\"dataframe\">\n",
       "  <thead>\n",
       "    <tr style=\"text-align: right;\">\n",
       "      <th></th>\n",
       "      <th>Name</th>\n",
       "      <th>Favortie Computer Language</th>\n",
       "      <th>Years of Experience</th>\n",
       "    </tr>\n",
       "  </thead>\n",
       "  <tbody>\n",
       "    <tr>\n",
       "      <th>0</th>\n",
       "      <td>Fred</td>\n",
       "      <td>Kotlin</td>\n",
       "      <td>4</td>\n",
       "    </tr>\n",
       "    <tr>\n",
       "      <th>1</th>\n",
       "      <td>Paula</td>\n",
       "      <td>Python</td>\n",
       "      <td>2</td>\n",
       "    </tr>\n",
       "    <tr>\n",
       "      <th>2</th>\n",
       "      <td>Ernst</td>\n",
       "      <td>Java</td>\n",
       "      <td>7</td>\n",
       "    </tr>\n",
       "    <tr>\n",
       "      <th>3</th>\n",
       "      <td>Isabel</td>\n",
       "      <td>C++</td>\n",
       "      <td>3</td>\n",
       "    </tr>\n",
       "    <tr>\n",
       "      <th>4</th>\n",
       "      <td>Tony</td>\n",
       "      <td>Pearl</td>\n",
       "      <td>7</td>\n",
       "    </tr>\n",
       "  </tbody>\n",
       "</table>\n",
       "</div>"
      ],
      "text/plain": [
       "     Name Favortie Computer Language Years of Experience\n",
       "0    Fred                     Kotlin                   4\n",
       "1   Paula                     Python                   2\n",
       "2   Ernst                       Java                   7\n",
       "3  Isabel                        C++                   3\n",
       "4    Tony                      Pearl                   7"
      ]
     },
     "execution_count": 17,
     "metadata": {},
     "output_type": "execute_result"
    }
   ],
   "source": [
    "for i in rows[1:]: \n",
    "    data = i.find_all(\"td\")\n",
    "    row = [tr.text for tr in data]     \n",
    "    l =len(df)                        \n",
    "    df.loc[l]= row \n",
    "    \n",
    "df.head()"
   ]
  }
 ],
 "metadata": {
  "kernelspec": {
   "display_name": "Python 3 (ipykernel)",
   "language": "python",
   "name": "python3"
  },
  "language_info": {
   "codemirror_mode": {
    "name": "ipython",
    "version": 3
   },
   "file_extension": ".py",
   "mimetype": "text/x-python",
   "name": "python",
   "nbconvert_exporter": "python",
   "pygments_lexer": "ipython3",
   "version": "3.11.5"
  }
 },
 "nbformat": 4,
 "nbformat_minor": 5
}
